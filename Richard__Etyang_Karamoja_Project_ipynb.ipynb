{
  "nbformat": 4,
  "nbformat_minor": 0,
  "metadata": {
    "colab": {
      "provenance": [],
      "authorship_tag": "ABX9TyPiArNJoo1X8DXo8PWsPMtO",
      "include_colab_link": true
    },
    "kernelspec": {
      "name": "python3",
      "display_name": "Python 3"
    },
    "language_info": {
      "name": "python"
    }
  },
  "cells": [
    {
      "cell_type": "markdown",
      "metadata": {
        "id": "view-in-github",
        "colab_type": "text"
      },
      "source": [
        "<a href=\"https://colab.research.google.com/github/EtyangRichard/Karamoja-Project/blob/main/Richard__Etyang_Karamoja_Project_ipynb.ipynb\" target=\"_parent\"><img src=\"https://colab.research.google.com/assets/colab-badge.svg\" alt=\"Open In Colab\"/></a>"
      ]
    },
    {
      "cell_type": "markdown",
      "source": [
        "#Project Overview\n",
        "This Project will involve creating an interactive visualization tool that provides insights into crop yield for sorghum and maize in Karamoja, Uganda, based on satellite imagery. This tool will serve as a prototype for a more comprehensive Food Security Monitoring system intended for use by NGOs operating in the region."
      ],
      "metadata": {
        "id": "tN9S9w4BgWqG"
      }
    },
    {
      "cell_type": "markdown",
      "source": [
        "#Background\n",
        "Karamoja, located in northeastern Uganda, is renowned as the most food-insecure region in the country. The primary contributors to this food insecurity are recurrent droughts and frequent pest and disease outbreaks, which significantly diminish crop productivity. Despite the efforts of various non-governmental organizations (NGOs) that offer technical support and farm inputs to improve yields, there is a substantial lack of comprehensive, real-time data on the overall agricultural conditions in the region. These NGOs often rely on localized information sources to direct their interventions.\n",
        "\n",
        "This project aims to provide a foundational ```visualization``` tool that will aid in more informed decision-making and resource allocation for improving food security in Karamoja."
      ],
      "metadata": {
        "id": "bfYcmRTIi_N1"
      }
    },
    {
      "cell_type": "markdown",
      "source": [
        "#Objectives\n",
        "\n",
        " To find out which district had the highest maize and Sorghum total production.\n",
        "\n",
        " To find out how the crop area in hectares affects the total production of maize and sorghum in each district.\n",
        "\n",
        "To find out the relationship between maize production and sorghum production in each district.\n",
        "\n",
        "To find out the correlation between the population and  total  maize and sorghum production of each district.\n",
        "\n",
        "\n",
        "\n",
        "\n",
        "\n",
        "\n",
        "\n",
        "\n",
        "\n"
      ],
      "metadata": {
        "id": "NYaWjZx7kHu3"
      }
    },
    {
      "cell_type": "markdown",
      "source": [
        "#Research Questions\n",
        "Which district in Karamoja recorded the highest total production of maize and sorghum during the 2017 crop season?\n",
        "\n",
        "How does the area of land dedicated to maize and sorghum (measured in hectares) influence the total production of these crops in each district?\n",
        "\n",
        "What is the relationship between maize production and sorghum production across different districts in Karamoja?\n",
        "\n",
        "What is the correlation between the population size of each district and the total production of maize and sorghum within those districts?\n",
        "\n"
      ],
      "metadata": {
        "id": "FNqgC9SwkWxd"
      }
    },
    {
      "cell_type": "markdown",
      "source": [
        "#The Data\n",
        "I will the two data sets below and capitalize on the final cleaned data to generate visualization through Tableu using one set that is\n",
        " the ```Uganda_Karamoja_Subcounty_Crop_Yield_Population.csv``` clean data\n",
        "\n",
        "Uganda_Karamoja_District_Crop_Yield_Population.csv\n",
        "\n",
        "Uganda_Karamoja_Subcounty_Crop_Yield_Population.csv\n"
      ],
      "metadata": {
        "id": "VHWjudFPpIZP"
      }
    },
    {
      "cell_type": "code",
      "execution_count": 2,
      "metadata": {
        "id": "c3y-NkEHFxvl"
      },
      "outputs": [],
      "source": [
        "#Importing Libraries\n",
        "import pandas as pd\n",
        "import numpy as np\n",
        "import matplotlib.pyplot as plt\n",
        "import seaborn as sns\n",
        "\n"
      ]
    },
    {
      "cell_type": "code",
      "source": [
        "#Loading Data sets\n",
        "df=pd.read_csv('/content/Uganda_Karamoja_District_Crop_Yield_Population.csv')\n",
        "df1=pd.read_csv('/content/Uganda_Karamoja_Subcounty_Crop_Yield_Population.csv')"
      ],
      "metadata": {
        "id": "rubohSeYGIIf"
      },
      "execution_count": 3,
      "outputs": []
    },
    {
      "cell_type": "markdown",
      "source": [
        "#Exploring the Data sets"
      ],
      "metadata": {
        "id": "7TdR8j2fP5ih"
      }
    },
    {
      "cell_type": "code",
      "source": [
        "#Loading the first five rows of the two data sets\n",
        "print(df.head())\n",
        "print(df1.head())\n",
        "\n",
        "\n",
        "#Loading the last five rows of the two data sets\n",
        "print(df.tail())\n",
        "print(df1.tail())\n",
        "\n",
        "#Loading the shape of the two data sets\n",
        "print(df.shape)\n",
        "print(df1.shape)\n"
      ],
      "metadata": {
        "colab": {
          "base_uri": "https://localhost:8080/"
        },
        "id": "-u2ponYhHqFM",
        "outputId": "621d0abc-f415-4a77-aa28-cca77a8a228b"
      },
      "execution_count": 4,
      "outputs": [
        {
          "output_type": "stream",
          "name": "stdout",
          "text": [
            "   OBJECTID     NAME     POP        Area  S_Yield_Ha  M_Yield_Ha  \\\n",
            "0        92     ABIM   90385  2771977106         449        1040   \n",
            "1        96   AMUDAT  101790  1643582836         205        1297   \n",
            "2        20  KAABONG  627057  7373606003         279         945   \n",
            "3        85   KOTIDO  243157  3641539808         331        1148   \n",
            "4         5   MOROTO  127811  3570160948         128         355   \n",
            "\n",
            "   Crop_Area_Ha     S_Area_Ha    M_Area_Ha  S_Prod_Tot  M_Prod_Tot  \n",
            "0   5470.068394   3277.295971  1848.621855     1471506     1922567  \n",
            "1   5765.443719   2973.423860  2733.661014      609552     3545558  \n",
            "2  28121.672530  20544.194960  7394.416334     5731830     6987723  \n",
            "3  53032.649450  50247.443900  1751.372284    16631904     2010575  \n",
            "4   5954.814048   4741.748776  1190.050606      606944      422468  \n",
            "   OBJECTID       SUBCOUNTY_NAME DISTRICT_NAME    POP        Area Karamoja  \\\n",
            "0       263              KACHERI        KOTIDO  17244  1067176155        Y   \n",
            "1       264               KOTIDO        KOTIDO  52771   597575188        Y   \n",
            "2       265  KOTIDO TOWN COUNCIL        KOTIDO  27389    23972401        Y   \n",
            "3       266         NAKAPERIMORU        KOTIDO  38775   419111591        Y   \n",
            "4       267           PANYANGARA        KOTIDO  65704   880955930        Y   \n",
            "\n",
            "   S_Yield_Ha   M_Yield_Ha  Crop_Area_Ha     S_Area_Ha   M_Area_Ha  \\\n",
            "0  354.207411  1137.467019   7023.533691   6434.342449  528.124229   \n",
            "1  367.890523  1162.996687  13587.990760  12455.592640  824.767081   \n",
            "2  369.314177  1167.005832   1656.531855   1520.322052    8.561644   \n",
            "3  283.324569   852.366578   7087.823334   6761.488901   45.721712   \n",
            "4  373.836926  1283.859882  10398.249390  10111.198130  172.611914   \n",
            "\n",
            "     S_Prod_Tot     M_Prod_Tot  \n",
            "0  2.279092e+06  600723.892900  \n",
            "1  4.582294e+06  959201.382500  \n",
            "2  5.614765e+05    9991.488268  \n",
            "3  1.915696e+06   38971.659080  \n",
            "4  3.779939e+06  221609.511400  \n",
            "   OBJECTID           NAME     POP        Area  S_Yield_Ha  M_Yield_Ha  \\\n",
            "2        20        KAABONG  627057  7373606003         279         945   \n",
            "3        85         KOTIDO  243157  3641539808         331        1148   \n",
            "4         5         MOROTO  127811  3570160948         128         355   \n",
            "5        54  NAKAPIRIPIRIT  146780  4216323900         356        1264   \n",
            "6        80          NAPAK  167625  4508782023         137         854   \n",
            "\n",
            "   Crop_Area_Ha     S_Area_Ha    M_Area_Ha  S_Prod_Tot  M_Prod_Tot  \n",
            "2  28121.672530  20544.194960  7394.416334     5731830     6987723  \n",
            "3  53032.649450  50247.443900  1751.372284    16631904     2010575  \n",
            "4   5954.814048   4741.748776  1190.050606      606944      422468  \n",
            "5  26372.698490  19237.333210  6425.788414     6848491     8122197  \n",
            "6  22944.296020  16142.015880  6543.719066     2211456     5588336  \n",
            "    OBJECTID SUBCOUNTY_NAME  DISTRICT_NAME    POP        Area Karamoja  \\\n",
            "47      1029      NGOLERIET          NAPAK  20790   158887552        Y   \n",
            "48      1295        NYAKWAE           ABIM  16470   769609687        Y   \n",
            "49      1313         LOKOPO          NAPAK  23200  1794470536        Y   \n",
            "50      1318           RUPA         MOROTO  41493  2069554899        Y   \n",
            "51      1320        MORUITA  NAKAPIRIPIRIT  16588   839293722        Y   \n",
            "\n",
            "    S_Yield_Ha   M_Yield_Ha  Crop_Area_Ha    S_Area_Ha   M_Area_Ha  \\\n",
            "47  134.084089   528.699822   1215.227445  1145.339875   68.124005   \n",
            "48  329.759030   779.225031    792.898789   342.816838  331.111340   \n",
            "49  120.862232   748.829862   6471.047334  5830.549392  553.543123   \n",
            "50  114.270921   699.334309   2217.290717  1989.119508  222.838881   \n",
            "51  430.557375  1248.955812   1161.390229   185.283445  959.671162   \n",
            "\n",
            "      S_Prod_Tot    M_Prod_Tot  \n",
            "47  153571.85410  3.601715e+04  \n",
            "48  113046.94800  2.580102e+05  \n",
            "49  704693.21440  4.145096e+05  \n",
            "50  227298.51840  1.558389e+05  \n",
            "51   79775.15368  1.198587e+06  \n",
            "(7, 11)\n",
            "(52, 13)\n"
          ]
        }
      ]
    },
    {
      "cell_type": "code",
      "source": [
        "#summary statistics\n",
        "print(df.describe())\n",
        "print(df1.describe())\n",
        "\n",
        "#summary of the dataframe\n",
        "print(df.info())\n",
        "print(df1.info())\n"
      ],
      "metadata": {
        "colab": {
          "base_uri": "https://localhost:8080/"
        },
        "id": "8kTP6A0-P_zH",
        "outputId": "274708b5-0aeb-464e-ba03-00e9fc5db786"
      },
      "execution_count": 5,
      "outputs": [
        {
          "output_type": "stream",
          "name": "stdout",
          "text": [
            "        OBJECTID            POP          Area  S_Yield_Ha   M_Yield_Ha  \\\n",
            "count   7.000000       7.000000  7.000000e+00    7.000000     7.000000   \n",
            "mean   61.714286  214943.571429  3.960853e+09  269.285714   986.142857   \n",
            "std    36.481567  188604.280916  1.781860e+09  119.243049   321.566700   \n",
            "min     5.000000   90385.000000  1.643583e+09  128.000000   355.000000   \n",
            "25%    37.000000  114800.500000  3.171069e+09  171.000000   899.500000   \n",
            "50%    80.000000  146780.000000  3.641540e+09  279.000000  1040.000000   \n",
            "75%    88.500000  205391.000000  4.362553e+09  343.500000  1206.000000   \n",
            "max    96.000000  627057.000000  7.373606e+09  449.000000  1297.000000   \n",
            "\n",
            "       Crop_Area_Ha     S_Area_Ha    M_Area_Ha    S_Prod_Tot    M_Prod_Tot  \n",
            "count      7.000000      7.000000     7.000000  7.000000e+00  7.000000e+00  \n",
            "mean   21094.520379  16737.636651  3983.947082  4.873098e+06  4.085632e+06  \n",
            "std    17363.854165  16625.963460  2678.911441  5.743724e+06  2.877188e+06  \n",
            "min     5470.068394   2973.423860  1190.050606  6.069440e+05  4.224680e+05  \n",
            "25%     5860.128883   4009.522373  1799.997070  1.040529e+06  1.966571e+06  \n",
            "50%    22944.296020  16142.015880  2733.661014  2.211456e+06  3.545558e+06  \n",
            "75%    27247.185510  19890.764085  6484.753740  6.290160e+06  6.288030e+06  \n",
            "max    53032.649450  50247.443900  7394.416334  1.663190e+07  8.122197e+06  \n",
            "          OBJECTID            POP          Area  S_Yield_Ha   M_Yield_Ha  \\\n",
            "count    52.000000      52.000000  5.200000e+01   52.000000    52.000000   \n",
            "mean    787.865385   28934.692308  5.331913e+08  274.165405   940.259552   \n",
            "std     280.101314   20865.122974  4.913308e+08  118.569907   321.641901   \n",
            "min     263.000000    1418.000000  2.121209e+06  108.156411     0.000000   \n",
            "25%     597.750000   16558.500000  1.568923e+08  173.034066   743.075879   \n",
            "50%     810.500000   23053.500000  3.848356e+08  277.255206  1016.684002   \n",
            "75%     982.250000   39461.000000  7.749029e+08  368.246437  1203.548665   \n",
            "max    1320.000000  100919.000000  2.069555e+09  560.313070  1396.991494   \n",
            "\n",
            "       Crop_Area_Ha     S_Area_Ha    M_Area_Ha    S_Prod_Tot    M_Prod_Tot  \n",
            "count     52.000000     52.000000    52.000000  5.200000e+01  5.200000e+01  \n",
            "mean    2839.646974   2253.143395   536.300569  6.557443e+05  5.500730e+05  \n",
            "std     3110.505917   2954.355858   724.092288  9.915839e+05  7.939707e+05  \n",
            "min        0.171390      0.130941     0.000000  1.728126e+01  0.000000e+00  \n",
            "25%      964.876031    405.394759    79.821743  1.210555e+05  6.087012e+04  \n",
            "50%     1654.265138   1231.824456   326.479336  2.543687e+05  2.896239e+05  \n",
            "75%     3267.564651   2429.985069   740.296675  6.040942e+05  8.114574e+05  \n",
            "max    13587.990760  12964.499730  3840.698081  4.582294e+06  4.365058e+06  \n",
            "<class 'pandas.core.frame.DataFrame'>\n",
            "RangeIndex: 7 entries, 0 to 6\n",
            "Data columns (total 11 columns):\n",
            " #   Column        Non-Null Count  Dtype  \n",
            "---  ------        --------------  -----  \n",
            " 0   OBJECTID      7 non-null      int64  \n",
            " 1   NAME          7 non-null      object \n",
            " 2   POP           7 non-null      int64  \n",
            " 3   Area          7 non-null      int64  \n",
            " 4   S_Yield_Ha    7 non-null      int64  \n",
            " 5   M_Yield_Ha    7 non-null      int64  \n",
            " 6   Crop_Area_Ha  7 non-null      float64\n",
            " 7   S_Area_Ha     7 non-null      float64\n",
            " 8   M_Area_Ha     7 non-null      float64\n",
            " 9   S_Prod_Tot    7 non-null      int64  \n",
            " 10  M_Prod_Tot    7 non-null      int64  \n",
            "dtypes: float64(3), int64(7), object(1)\n",
            "memory usage: 744.0+ bytes\n",
            "None\n",
            "<class 'pandas.core.frame.DataFrame'>\n",
            "RangeIndex: 52 entries, 0 to 51\n",
            "Data columns (total 13 columns):\n",
            " #   Column          Non-Null Count  Dtype  \n",
            "---  ------          --------------  -----  \n",
            " 0   OBJECTID        52 non-null     int64  \n",
            " 1   SUBCOUNTY_NAME  52 non-null     object \n",
            " 2   DISTRICT_NAME   52 non-null     object \n",
            " 3   POP             52 non-null     int64  \n",
            " 4   Area            52 non-null     int64  \n",
            " 5   Karamoja        52 non-null     object \n",
            " 6   S_Yield_Ha      52 non-null     float64\n",
            " 7   M_Yield_Ha      52 non-null     float64\n",
            " 8   Crop_Area_Ha    52 non-null     float64\n",
            " 9   S_Area_Ha       52 non-null     float64\n",
            " 10  M_Area_Ha       52 non-null     float64\n",
            " 11  S_Prod_Tot      52 non-null     float64\n",
            " 12  M_Prod_Tot      52 non-null     float64\n",
            "dtypes: float64(7), int64(3), object(3)\n",
            "memory usage: 5.4+ KB\n",
            "None\n"
          ]
        }
      ]
    },
    {
      "cell_type": "code",
      "source": [
        "print(df.columns)\n",
        "print(df1.columns)\n"
      ],
      "metadata": {
        "colab": {
          "base_uri": "https://localhost:8080/"
        },
        "id": "ahfk3O5RRO31",
        "outputId": "0873c91a-fafd-4d4a-a062-78bfc134ee6c"
      },
      "execution_count": 6,
      "outputs": [
        {
          "output_type": "stream",
          "name": "stdout",
          "text": [
            "Index(['OBJECTID', 'NAME', 'POP', 'Area', 'S_Yield_Ha', 'M_Yield_Ha',\n",
            "       'Crop_Area_Ha', 'S_Area_Ha', 'M_Area_Ha', 'S_Prod_Tot', 'M_Prod_Tot'],\n",
            "      dtype='object')\n",
            "Index(['OBJECTID', 'SUBCOUNTY_NAME', 'DISTRICT_NAME', 'POP', 'Area',\n",
            "       'Karamoja', 'S_Yield_Ha', 'M_Yield_Ha', 'Crop_Area_Ha', 'S_Area_Ha',\n",
            "       'M_Area_Ha', 'S_Prod_Tot', 'M_Prod_Tot'],\n",
            "      dtype='object')\n"
          ]
        }
      ]
    },
    {
      "cell_type": "markdown",
      "source": [
        "#DATA CLEANING\n"
      ],
      "metadata": {
        "id": "ryOZvrhlRrJZ"
      }
    },
    {
      "cell_type": "markdown",
      "source": [
        "#Handing Missing Values"
      ],
      "metadata": {
        "id": "3R8NvTZdS3VD"
      }
    },
    {
      "cell_type": "code",
      "source": [
        "#Identifying Missing Values\n",
        "print(df.isnull().sum())\n",
        "print(df1.isnull().sum())\n",
        "#Reolacing missing values\n",
        "df.fillna(0, inplace=True)\n",
        "df1.fillna(0, inplace=True)\n"
      ],
      "metadata": {
        "colab": {
          "base_uri": "https://localhost:8080/"
        },
        "id": "pA2OKdyiRxto",
        "outputId": "16a54fe0-c71b-4c47-cad4-8515a74754a9"
      },
      "execution_count": 7,
      "outputs": [
        {
          "output_type": "stream",
          "name": "stdout",
          "text": [
            "OBJECTID        0\n",
            "NAME            0\n",
            "POP             0\n",
            "Area            0\n",
            "S_Yield_Ha      0\n",
            "M_Yield_Ha      0\n",
            "Crop_Area_Ha    0\n",
            "S_Area_Ha       0\n",
            "M_Area_Ha       0\n",
            "S_Prod_Tot      0\n",
            "M_Prod_Tot      0\n",
            "dtype: int64\n",
            "OBJECTID          0\n",
            "SUBCOUNTY_NAME    0\n",
            "DISTRICT_NAME     0\n",
            "POP               0\n",
            "Area              0\n",
            "Karamoja          0\n",
            "S_Yield_Ha        0\n",
            "M_Yield_Ha        0\n",
            "Crop_Area_Ha      0\n",
            "S_Area_Ha         0\n",
            "M_Area_Ha         0\n",
            "S_Prod_Tot        0\n",
            "M_Prod_Tot        0\n",
            "dtype: int64\n"
          ]
        }
      ]
    },
    {
      "cell_type": "markdown",
      "source": [
        "#Handling Duplicates.\n",
        "Since there are no missing values, Check for duplicates and if present remove them."
      ],
      "metadata": {
        "id": "IHqraQtiTJ8Q"
      }
    },
    {
      "cell_type": "code",
      "source": [
        "#Identify and remove Duplicates.\n",
        "print(df.duplicated().sum())\n",
        "print (df1.duplicated().sum())\n",
        "#Replacing duplicated values\n",
        "df.drop_duplicates(inplace=True)\n",
        "df1.drop_duplicates(inplace=True)\n",
        "\n"
      ],
      "metadata": {
        "colab": {
          "base_uri": "https://localhost:8080/"
        },
        "id": "5L09U8KWStZM",
        "outputId": "da3749e2-6dec-4bb3-a05f-66c85cef3b7b"
      },
      "execution_count": 8,
      "outputs": [
        {
          "output_type": "stream",
          "name": "stdout",
          "text": [
            "0\n",
            "0\n"
          ]
        }
      ]
    },
    {
      "cell_type": "markdown",
      "source": [
        "#Downloading the Dataset"
      ],
      "metadata": {
        "id": "2BysBXd7WbFL"
      }
    },
    {
      "cell_type": "code",
      "source": [
        "# Save the cleaned DataFrame to a new CSV file\n",
        "df.to_csv('cleaned_data.csv', index=False)\n",
        "df1.to_csv('cleaned_data.csv', index=False)\n",
        "print(\"\\nCleaned data has been saved to 'cleaned_data.csv'.\")\n",
        "\n"
      ],
      "metadata": {
        "colab": {
          "base_uri": "https://localhost:8080/"
        },
        "id": "Bx9zLy4CebeD",
        "outputId": "55e0b264-57f9-451f-9990-f1f2500e9a8d"
      },
      "execution_count": 60,
      "outputs": [
        {
          "output_type": "stream",
          "name": "stdout",
          "text": [
            "\n",
            "Cleaned data has been saved to 'cleaned_data.csv'.\n"
          ]
        }
      ]
    },
    {
      "cell_type": "code",
      "source": [
        "#Saving dataset 29 df1) to a new CSV file\n",
        "df1.to_csv('final_data.csv', index=False)\n",
        "print(\"\\nfinal data has been saved to 'final_data.csv'.\")"
      ],
      "metadata": {
        "colab": {
          "base_uri": "https://localhost:8080/"
        },
        "id": "6uFORxbT-CpI",
        "outputId": "6e37c01e-2c0f-4880-edd0-99e7b8609223"
      },
      "execution_count": 61,
      "outputs": [
        {
          "output_type": "stream",
          "name": "stdout",
          "text": [
            "\n",
            "final data has been saved to 'final_data.csv'.\n"
          ]
        }
      ]
    },
    {
      "cell_type": "markdown",
      "source": [
        "#Conclusions\n",
        " Karamoja region is accreditated of being the most famine prone region in Uganda due to its low crop yield rates which are caused by frequent droughts, diseases and pests attacks. All these factors work hand in hand in reducing the level of food production and therefore increase food insecurity in the region.\n",
        "\n",
        " Although there are so many NGOs that could have offered the technical support and the farm inputs, there is however a major drawback regarding over-all visibility of the agricultural situation in the Karamoja region. Due to overeliance on localized information the development of strategies and programs to support the region are not well prioritized and appropriate. This highlights a need for a proper food security monitoring tool in order to get more generalized and better picture of the agriculture in the region.\n",
        "\n",
        " Potential for Future Development: This first mockup which  will set the foundation for the development of an  elaborated Food Security Monitoring tool. The feedback from this initial phase will be important in designing the tool that captures the full  requirements of an efficient food security management in Karamoja."
      ],
      "metadata": {
        "id": "w-5GCewRskfI"
      }
    },
    {
      "cell_type": "markdown",
      "source": [
        "#Recommendations\n",
        "The Input should be directly proportional to the Output: The volume of investment in producing sorghum and Maize should be assessed from the output generated from each district. The NGOs can focus on investing in Maize inputs in Kotido and Sorghum inputs in Kaabong and Nakipiripirit.\n",
        "\n",
        "Invest in buying land: It is evident from the data that  the higher the crop area the higher the total production of Mazie and Sorghum.\n",
        "\n",
        "Create Employment opportunities for large population in Karamoja in farms to Increase Production: It is evident that the districts with large population have increased production. However, Kotido District has the highest production even though they have a low population. This means that if their population would be large their production would be higher."
      ],
      "metadata": {
        "id": "zL8abnw7xg5L"
      }
    },
    {
      "cell_type": "code",
      "source": [],
      "metadata": {
        "id": "ONBqaKzoKoNB"
      },
      "execution_count": null,
      "outputs": []
    }
  ]
}